{
 "cells": [
  {
   "cell_type": "code",
   "execution_count": 1,
   "metadata": {},
   "outputs": [
    {
     "data": {
      "text/plain": [
       "['__all__',\n",
       " '__builtins__',\n",
       " '__cached__',\n",
       " '__doc__',\n",
       " '__file__',\n",
       " '__loader__',\n",
       " '__name__',\n",
       " '__package__',\n",
       " '__path__',\n",
       " '__spec__',\n",
       " '_comb',\n",
       " '_fact',\n",
       " '_fact2',\n",
       " '_factk',\n",
       " '_info',\n",
       " '_lsm',\n",
       " '_msg',\n",
       " '_pade',\n",
       " '_source',\n",
       " '_who',\n",
       " 'absolute_import',\n",
       " 'ascent',\n",
       " 'bytescale',\n",
       " 'central_diff_weights',\n",
       " 'comb',\n",
       " 'derivative',\n",
       " 'division',\n",
       " 'doccer',\n",
       " 'electrocardiogram',\n",
       " 'face',\n",
       " 'factorial',\n",
       " 'factorial2',\n",
       " 'factorialk',\n",
       " 'fromimage',\n",
       " 'imfilter',\n",
       " 'imread',\n",
       " 'imresize',\n",
       " 'imrotate',\n",
       " 'imsave',\n",
       " 'imshow',\n",
       " 'info',\n",
       " 'logsumexp',\n",
       " 'np',\n",
       " 'pade',\n",
       " 'print_function',\n",
       " 'source',\n",
       " 'test',\n",
       " 'toimage',\n",
       " 'who']"
      ]
     },
     "execution_count": 1,
     "metadata": {},
     "output_type": "execute_result"
    }
   ],
   "source": [
    "import scipy.misc\n",
    "dir(scipy.misc)"
   ]
  },
  {
   "cell_type": "code",
   "execution_count": null,
   "metadata": {},
   "outputs": [],
   "source": []
  },
  {
   "cell_type": "code",
   "execution_count": null,
   "metadata": {},
   "outputs": [],
   "source": []
  }
 ],
 "metadata": {
  "kernelspec": {
   "display_name": "Python 3",
   "language": "python",
   "name": "python3"
  },
  "language_info": {
   "codemirror_mode": {
    "name": "ipython",
    "version": 3
   },
   "file_extension": ".py",
   "mimetype": "text/x-python",
   "name": "python",
   "nbconvert_exporter": "python",
   "pygments_lexer": "ipython3",
   "version": "3.6.10"
  }
 },
 "nbformat": 4,
 "nbformat_minor": 4
}
