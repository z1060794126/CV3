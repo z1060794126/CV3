{
 "cells": [
  {
   "cell_type": "code",
   "execution_count": 16,
   "metadata": {},
   "outputs": [],
   "source": [
    "from xml.dom import minidom\n",
    "import numpy as np\n",
    "from scipy import linalg\n",
    "from scipy import ndimage\n",
    "from scipy.misc import imsave\n",
    "import os\n",
    "from PIL import Image"
   ]
  },
  {
   "cell_type": "code",
   "execution_count": 2,
   "metadata": {},
   "outputs": [],
   "source": [
    "def read_points_from_xml(xmlFileName):\n",
    "    \"\"\"读取用于人脸对齐的控制点\"\"\"\n",
    "    \n",
    "    xmldoc = minidom.parse(xmlFileName)\n",
    "    facelist = xmldoc.getElementsByTagName('face')\n",
    "    faces = {}\n",
    "    for xmlFace in facelist:\n",
    "        fileName = xmlFace.attributes['file'].value\n",
    "        xf = int(xmlFace.attributes['xf'].value)\n",
    "        yf = int(xmlFace.attributes['yf'].value)\n",
    "        xs = int(xmlFace.attributes['xs'].value)\n",
    "        ys = int(xmlFace.attributes['ys'].value)\n",
    "        xm = int(xmlFace.attributes['xm'].value)\n",
    "        ym = int(xmlFace.attributes['ym'].value)\n",
    "        faces[fileName] = np.array([xf,yf,xs,ys,xm,ym])\n",
    "        \n",
    "    return faces"
   ]
  },
  {
   "cell_type": "code",
   "execution_count": 3,
   "metadata": {},
   "outputs": [],
   "source": [
    "def compute_rigid_transform(refpoints,points):\n",
    "    \"\"\"计算用于将点对齐到参考点的旋转、尺度和平移量\"\"\"\n",
    "    \n",
    "    A = np.array([[points[0],-points[1],1,0],\n",
    "                 [points[1],points[0],0,1],\n",
    "                 [points[2],-points[3],1,0],\n",
    "                 [points[3],points[2],0,1],\n",
    "                 [points[4],-points[5],1,0],\n",
    "                 [points[5],points[4],0,1]])\n",
    "    \n",
    "    y = np.array([refpoints[0],\n",
    "                 refpoints[1],\n",
    "                 refpoints[2],\n",
    "                 refpoints[3],\n",
    "                 refpoints[4],\n",
    "                 refpoints[5]])\n",
    "    \n",
    "    #计算最小化||AX-U||的最小二乘解\n",
    "    a,b,tx,ty = linalg.lstsq(A,y)[0]    #包含尺度的旋转矩阵\n",
    "    R = np.array([[a,-b],[b,a]])\n",
    "    \n",
    "    return R,tx,ty"
   ]
  },
  {
   "cell_type": "code",
   "execution_count": 91,
   "metadata": {},
   "outputs": [],
   "source": [
    "def rigid_alignment(faces,path,plotflag=False):\n",
    "    \"\"\"严格对齐图像，并将其保存为新图像\n",
    "    path决定对齐后图像的保存位置\n",
    "    plotflag控制是否绘制图像\n",
    "    \"\"\"\n",
    "    #将第一幅图像中的碘作为参考点\n",
    "    refpoints = list(faces.values())[0]\n",
    "    \n",
    "     #使用仿射变换扭曲每幅图像\n",
    "    for face in faces:\n",
    "        points = faces[face]\n",
    "        R,tx,ty = compute_rigid_transform(refpoints,points)\n",
    "        T = np.array([[R[1][1],R[1][0]],[R[0][1],R[0][0]]])\n",
    "        \n",
    "        im = np.array(Image.open(os.path.join(path,face)))\n",
    "        im2 = np.zeros(im.shape,'uint8')\n",
    "        \n",
    "        #对每个颜色通道进行扭曲\n",
    "        for i in range(len(im.shape)):\n",
    "            im2[:,:,i] = ndimage.affine_transform(im[:,:,i],linalg.inv(T),offset=[-ty,-tx])\n",
    "        \n",
    "        if plotflag:\n",
    "            plt.imshow(im2)\n",
    "            plt.show()\n",
    "        \n",
    "        #裁剪边界，并保存对齐后的图像\n",
    "        h,w = im2.shape[:2]\n",
    "        border = (w+h)/20\n",
    "        #print(type(border))\n",
    "        border = int(border)\n",
    "        \n",
    "        #print(border)\n",
    "        #print(im2[border:h-border,border:w-border,:])\n",
    "        #裁剪边界\n",
    "        imsave(os.path.join(path,'new/'+face),im2[border:h-border,border:w-border,:])\n",
    "        #imsave('jkface/new/'+face,im2[border:h-border,border:w-border,:])\n",
    "    \n",
    "    "
   ]
  },
  {
   "cell_type": "markdown",
   "metadata": {},
   "source": [
    "xmlFileName = 'jkfaces.xml'\n",
    "points = read_points_from_xml(xmlFileName)\n",
    "\n",
    "#print(points)\n",
    "#print(list(points.values()))\n",
    "#print(list(points.values())[0])\n",
    "\n",
    "\n",
    "rigid_alignment(points,'jkfaces/')"
   ]
  },
  {
   "cell_type": "code",
   "execution_count": null,
   "metadata": {},
   "outputs": [],
   "source": []
  }
 ],
 "metadata": {
  "kernelspec": {
   "display_name": "Python 3",
   "language": "python",
   "name": "python3"
  },
  "language_info": {
   "codemirror_mode": {
    "name": "ipython",
    "version": 3
   },
   "file_extension": ".py",
   "mimetype": "text/x-python",
   "name": "python",
   "nbconvert_exporter": "python",
   "pygments_lexer": "ipython3",
   "version": "3.6.10"
  }
 },
 "nbformat": 4,
 "nbformat_minor": 4
}
